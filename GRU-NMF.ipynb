{
 "cells": [
  {
   "cell_type": "code",
   "execution_count": 28,
   "id": "61805a7b-ad0b-4be6-9362-85d147666fd9",
   "metadata": {},
   "outputs": [],
   "source": [
    "import numpy as np\n",
    "import numpy as cp\n",
    "import pandas as pd\n",
    "from scipy.sparse import csr_matrix, kron\n",
    "from scipy.sparse import identity\n",
    "import scipy.sparse as sp\n",
    "import random\n",
    "from scipy import linalg\n",
    "from IPython.display import clear_output"
   ]
  },
  {
   "cell_type": "code",
   "execution_count": 31,
   "id": "d9f050e9-08d5-40f2-87fb-703431075f47",
   "metadata": {},
   "outputs": [],
   "source": [
    "def calculate_smoothed_weights(mat):\n",
    "    identity_matrix = np.identity(mat.shape[0])\n",
    "    W_smooth = -pd.DataFrame(identity_matrix).rolling(2, axis=1).sum().replace(np.nan, 0)\n",
    "    W_smooth[0] = -pd.DataFrame(identity_matrix)[0]\n",
    "    W_smooth = np.array(W_smooth + 2 * pd.DataFrame(identity_matrix))\n",
    "    W_smooth_pos = (np.abs(W_smooth) + W_smooth) / 2\n",
    "    W_smooth_neg = (np.abs(W_smooth) - W_smooth) / 2\n",
    "    neum_term_B = cp.asarray(W_smooth_neg.T.dot(W_smooth_neg))\n",
    "    denom_term_B = cp.asarray(W_smooth_pos.T.dot(W_smooth_pos))\n",
    "    return  (csr_matrix(neum_term_B), csr_matrix(denom_term_B))\n",
    "def calculate_rmse(y_true, y_pred):\n",
    "    squared_diff = (y_true - y_pred) ** 2\n",
    "    mean_squared_diff = cp.mean(squared_diff)\n",
    "    rmse = cp.sqrt(mean_squared_diff)\n",
    "    return rmse.item()"
   ]
  },
  {
   "cell_type": "code",
   "execution_count": 32,
   "id": "c29ba1e7-6c0b-4549-934a-01425cd79c74",
   "metadata": {},
   "outputs": [],
   "source": [
    "import pandas as pd\n",
    "import numpy as np\n",
    "\n",
    "# Create a 96x96 DataFrame filled with -1\n",
    "df = pd.DataFrame(np.full((96, 96), 0))\n",
    "\n",
    "# Set diagonals as 0\n",
    "for i in range(96):\n",
    "    df.iat[i, i] = 0\n",
    "for i in range(96):\n",
    "    for j in range(max(0, i-30), min(96, i+30)):\n",
    "        if i != j:\n",
    "            df.iat[i, j] = 0\n",
    "            df.iat[j, i] = 0\n",
    "# Set the four next and four previous cells (in rows and columns) to each diagonal cell as 1\n",
    "for i in range(96):\n",
    "    for j in range(max(0, i-2), min(96, i+4)):\n",
    "        if i != j:\n",
    "            df.iat[i, j] = 1\n",
    "            df.iat[j, i] = 1\n",
    "ad = df.copy(deep = True)\n",
    "ad = (ad+ad.T)/2\n",
    "deg = pd.DataFrame(np.diag(ad.sum(axis = 0)), index = ad.index, columns = ad.columns)\n",
    "ad = csr_matrix(np.array(ad))\n",
    "deg = csr_matrix(np.array(deg))"
   ]
  },
  {
   "cell_type": "code",
   "execution_count": 44,
   "id": "724713ed-1d43-4d78-9525-ca8535953014",
   "metadata": {},
   "outputs": [],
   "source": [
    "\n",
    "def GRU_NMF(array1, ad, deg, r, hy2, alpha_B, smoothening_hyp,n_iter = 4000, prin = 100, time_const= 1):\n",
    "    A = csr_matrix(np.random.rand(array1.shape[0], r)).astype('float32')\n",
    "    B = csr_matrix(np.random.rand(array1.shape[1], r)).astype('float32')\n",
    "\n",
    "    neum_term_B, denom_term_B = calculate_smoothed_weights(B)\n",
    "\n",
    "    for iteration in range(n_iter):\n",
    "        #print(type (B))\n",
    "        time_neum = time_const * (ad.dot(B))\n",
    "        time_denom = time_const * (deg.dot(B))\n",
    "        A_neum = array1.dot(B)\n",
    "        A_denom = A.dot(B.T).dot(B) + hy2 * A\n",
    "        A = A.multiply((A_neum) / (A_denom))\n",
    "        A.data = np.nan_to_num(A.data)\n",
    "\n",
    "        B_neum = array1.T.dot(A) + (alpha_B * (B.T)).T + smoothening_hyp * (neum_term_B.dot(B)) + time_neum\n",
    "        B_denom = B.dot(A.T).dot(A) + hy2 * B + (alpha_B * (B.T.dot(B)).dot(B.T)).T + smoothening_hyp * (denom_term_B.dot(B)) + time_denom\n",
    "        B = B.multiply((B_neum) / (B_denom))\n",
    "        B.data = np.nan_to_num(B.data)\n",
    "\n",
    "        \n",
    "        if iteration % prin == 0:\n",
    "            rmse = calculate_rmse(array1.toarray(), A.dot(B.T).toarray())\n",
    "            ortho_A = ((Identity - B.tocsr().T.dot(B.tocsr())) * (Identity - B.tocsr().T.dot(B.tocsr()))).sum()\n",
    "            time_reg = (B.T.dot(deg - ad).dot(B)).sum()\n",
    "            print(\"Iteration\", iteration, \"RMSE:\", rmse, time_reg, ortho_A)\n",
    "\n",
    "    return A, B"
   ]
  }
 ],
 "metadata": {
  "kernelspec": {
   "display_name": "Python 3 (ipykernel)",
   "language": "python",
   "name": "python3"
  },
  "language_info": {
   "codemirror_mode": {
    "name": "ipython",
    "version": 3
   },
   "file_extension": ".py",
   "mimetype": "text/x-python",
   "name": "python",
   "nbconvert_exporter": "python",
   "pygments_lexer": "ipython3",
   "version": "3.11.4"
  }
 },
 "nbformat": 4,
 "nbformat_minor": 5
}
